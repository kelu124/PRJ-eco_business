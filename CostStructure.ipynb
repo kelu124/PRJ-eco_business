{
 "cells": [
  {
   "cell_type": "markdown",
   "metadata": {},
   "source": [
    "# Cost model for a low-cost ultrasound"
   ]
  },
  {
   "cell_type": "code",
   "execution_count": 1,
   "metadata": {
    "collapsed": false
   },
   "outputs": [],
   "source": [
    "# Hypotheses\n",
    "MaterialsCosts = {\"PiezosCost\":3*50, \"ElectronicsPCB\":60, \"FPGA\": 40, \"Plastics\": 40} # NbOfPiezoUsed = 3\n",
    "\n",
    "# Factors\n",
    "ManufOH = 1.20  # \n",
    "Distribargin = 0.250 # low bracket    \n",
    "    \n",
    "# End of game costs: http://marketrealist.com/2015/11/medical-device-cost-structure-us/\n",
    "SGA = 0.20 # Average general and administrative (or SG&A) \n",
    "RD = 0.10 #Top medical device players spend between 6% and 12% of revenues towards R&D\n",
    "\n",
    "# Other costs\n",
    "CertificationCosts = 25000 # overall certification costs\n",
    "MarginByAssociation = 0.05 # margin taken by the brand\n",
    "\n",
    "# Units sold\n",
    "Units = 2000\n",
    "\n",
    "# Tax\n",
    "TVA = 0.2"
   ]
  },
  {
   "cell_type": "markdown",
   "metadata": {},
   "source": [
    "#### Let's sum up the different costs"
   ]
  },
  {
   "cell_type": "code",
   "execution_count": 2,
   "metadata": {
    "collapsed": false
   },
   "outputs": [
    {
     "name": "stdout",
     "output_type": "stream",
     "text": [
      "Materials cost: 290 $\n",
      "Production Cost: 638.0 $\n",
      "With support functions : 829.4 $\n",
      "With Certification and license: 882.87 $\n",
      "Including DB cost: 1147 $\n",
      "Including DB cost: 1376 $\n"
     ]
    }
   ],
   "source": [
    "MatCost = 0\n",
    "for Matos in MaterialsCosts:\n",
    "    MatCost += MaterialsCosts[Matos]\n",
    "print(\"Materials cost: \" + str(MatCost)+\" $\")\n",
    "ProductionCost = MatCost * (1+ManufOH)\n",
    "print(\"Production Cost: \" + str(ProductionCost)+\" $\")\n",
    "AllInclusiveCosts = ProductionCost * (1+SGA+RD)\n",
    "print(\"With support functions : \" + str(AllInclusiveCosts)+\" $\")\n",
    "SellingPrice = AllInclusiveCosts*(1+MarginByAssociation)+CertificationCosts/Units\n",
    "print(\"With Certification and license: \" + str(SellingPrice)+\" $\")\n",
    "DBPrice = int(SellingPrice * (1+SGA+RD))\n",
    "print(\"Including DB cost: \"+str(DBPrice)+ \" $\")\n",
    "TaxIncPrice = int(DBPrice * (1+TVA))\n",
    "print(\"Including DB cost: \"+str(TaxIncPrice)+ \" $\")"
   ]
  },
  {
   "cell_type": "code",
   "execution_count": null,
   "metadata": {
    "collapsed": true
   },
   "outputs": [],
   "source": []
  }
 ],
 "metadata": {
  "kernelspec": {
   "display_name": "Python 2",
   "language": "python",
   "name": "python2"
  },
  "language_info": {
   "codemirror_mode": {
    "name": "ipython",
    "version": 2
   },
   "file_extension": ".py",
   "mimetype": "text/x-python",
   "name": "python",
   "nbconvert_exporter": "python",
   "pygments_lexer": "ipython2",
   "version": "2.7.12"
  }
 },
 "nbformat": 4,
 "nbformat_minor": 2
}

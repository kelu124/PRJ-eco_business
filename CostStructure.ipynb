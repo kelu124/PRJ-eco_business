{
 "cells": [
  {
   "cell_type": "markdown",
   "metadata": {},
   "source": [
    "# Cost model for a low-cost ultrasound"
   ]
  },
  {
   "cell_type": "markdown",
   "metadata": {},
   "source": [
    "## Hypotheses\n",
    "\n",
    "### A prioris\n",
    "\n",
    "According to [McKinsey](http://www.mckinsey.com/~/media/McKinsey/Industries/Healthcare%20Systems%20and%20Services/Our%20Insights/Capturing%20the%20new%20value%20segment%20in%20medical%20devices/png_Web_CapturingTheNewValueSegment_ex3_Exhibit_only.ashx), in a medical device, costs of materials represent from 15% to 22% of the cost of a device. Indeed, there's a whole value chain to consider.\n",
    "\n",
    "![](https://marketrealist.imgix.net/uploads/2015/11/value-chain.png)\n",
    "\n",
    "## Per device costs\n",
    "\n",
    "### Architecture of the device.\n",
    "\n",
    "#### Piezo\n",
    "\n",
    "The device will use 3 sensors, 3 piezoelectric elements of different frequencies. A first survey of quotes from sensors suppliers yields a cost per piezo between 199 dollars per unit for 1k units (for 3MHz piezos) to 249 dollars for 1k units (for 7.5MHz) (see [supplier](https://github.com/kelu124/echomods/blob/master/cletus/suppliers/supplier-blatek.md)). Other suppliers [state 250 dollars per unit](https://github.com/kelu124/echomods/blob/master/cletus/suppliers/supplier-sonicconcepts.md) at 1k unit orders. \n",
    "\n",
    "-> __NbOfPiezoUsed = 3__.\n",
    "-> __OnePiezoCost = 50__.\n",
    "\n",
    "#### Electronics\n",
    "\n",
    "\"ElectronicsPCB\":60, \"FPGA\": 40, \"Plastics\": 40} \n",
    "\n",
    "-> __Electronics = 60__\n",
    "-> __PCB = 5 __\n",
    "-> __FPGA = 20__\n",
    "\n",
    "\n",
    "#### Battery\n",
    "\n",
    "-> __Battery = 10__\n",
    "\n",
    "#### Plastic & oil\n",
    "\n",
    "Specific plastic and oil will be required.\n",
    "\n",
    "-> __Plastic&Oil = 10__\n",
    "\n",
    "\n",
    "#### Motor\n",
    "\n",
    "What is needed is a good motor, robust, reliable, with little electronic noise. Proper tracking as well (counter) is required. Cost can be for a professional, certifiable motor, 20 dols.\n",
    "\n",
    "-> We'll keep __Motor = 20__.\n",
    "\n",
    "\n",
    "### Manufacturing costs\n",
    "\n",
    "\n",
    "\"_If you don’t have the assembly labour, just take the BoM cost and double it, and that should be the total cost of ownership.  Obviously, these are really rough estimates. [...] Manufacturing medical devices makes that process even more difficult.  It can be done and done well, but it adds costs._\" states a [source](http://starfishmedical.com/2015/10/15/calculating-medical-device-manufacturing-costs/).\n",
    "\n",
    "-> We'll keep __ManufOH = 2.5__.\n",
    "\n",
    "### VAT\n",
    "\n",
    "Missing specifics, VAT seems can be from 5.5% to 20%. Best case is here considered\n",
    "\n",
    "-> __TVA = 0.055__\n",
    "\n",
    "## Overheads costs\n",
    "\n",
    "### R&D\n",
    "\n",
    "It seems that 10-15% of the selling price goes to R&D.\n",
    "\n",
    "### Certification\n",
    "\n",
    "All in all, a [study](http://www.mddionline.com/blog/devicetalk/how-much-does-510k-device-cost-about-24-million) (PDF of the full report is [here](http://www.advamed.org/NR/rdonlyres/040E6C33-380B-4F6B-AB58-9AB1C0A7A3CF/0/makowerreportfinal.pdf) that the average cost to take a 510(k) product from concept to market is 31 million dollars, and that roughly 77\\% of that amount is spent on tasks related to FDA regulation.\n",
    "\n",
    "Tools to support the certification can also run expensive.\n",
    "\n",
    "As a very conservative quote\n",
    "-> __CertificationCosts = 250000__\n",
    "\n",
    "### Post-sale costs\n",
    "\n",
    "Costs linked to the aftersale follow-up are not included here, and neither are guarantees services.\n",
    "\n"
   ]
  },
  {
   "cell_type": "code",
   "execution_count": 19,
   "metadata": {
    "collapsed": false
   },
   "outputs": [],
   "source": [
    "# Hypotheses\n",
    "NbOfPiezoUsed = 3\n",
    "OnePiezoCost = 50\n",
    "MaterialsCosts = {\"PiezosCost\":NbOfPiezoUsed*OnePiezoCost, \"Electronics\":60, \n",
    "                  \"PCB\":5,\"FPGA\": 20,\"Motor\":20, \"Plastic&Oil\": 10, \"Battery\":10} \n",
    "\n",
    "# Factors\n",
    "ManufOH = 2.5 \n",
    "DistribMargin = 0.250 # low bracket    \n",
    "    \n",
    "# End of game costs: http://marketrealist.com/2015/11/medical-device-cost-structure-us/\n",
    "SGA = 0.20 # Average general and administrative (or SG&A) \n",
    "RD = 0.10 #Top medical device players spend between 6% and 12% of revenues towards R&D\n",
    "MarginByAssociation = 0.05 # margin taken by the brand\n",
    "\n",
    "# Tax\n",
    "TVA = 0.055\n",
    "\n",
    "####\n",
    "# Overheads\n",
    "#### \n",
    "# Other costs \n",
    "CertificationCosts = 250000 # overall certification costs\n",
    "\n",
    "# Units sold\n",
    "Units = 50000\n"
   ]
  },
  {
   "cell_type": "markdown",
   "metadata": {},
   "source": [
    "#### Let's sum up the different costs"
   ]
  },
  {
   "cell_type": "code",
   "execution_count": 20,
   "metadata": {
    "collapsed": false
   },
   "outputs": [
    {
     "name": "stdout",
     "output_type": "stream",
     "text": [
      "Materials cost: 275 $\n",
      "Production Cost: 962.5 $\n",
      "With support functions : 1251.25 $\n",
      "With Certification and license: 1318.8125 $\n",
      "Including DB cost: 1648 $\n",
      "Including all taxes: 1738 $\n"
     ]
    }
   ],
   "source": [
    "MatCost = 0\n",
    "for Matos in MaterialsCosts:\n",
    "    MatCost += MaterialsCosts[Matos]\n",
    "print(\"Materials cost: \" + str(MatCost)+\" $\")\n",
    "\n",
    "ProductionCost = MatCost * (1+ManufOH)\n",
    "print(\"Production Cost: \" + str(ProductionCost)+\" $\")\n",
    "\n",
    "AllInclusiveCosts = ProductionCost * (1+SGA+RD)\n",
    "print(\"With support functions : \" + str(AllInclusiveCosts)+\" $\")\n",
    "\n",
    "SellingPrice = AllInclusiveCosts*(1+MarginByAssociation)+CertificationCosts/Units\n",
    "print(\"With Certification and license: \" + str(SellingPrice)+\" $\")\n",
    "\n",
    "DBPrice = int(SellingPrice * (1+DistribMargin))\n",
    "print(\"Including DB cost: \"+str(DBPrice)+ \" $\")\n",
    "\n",
    "TaxIncPrice = int(DBPrice * (1+TVA))\n",
    "print(\"Including all taxes: \"+str(TaxIncPrice)+ \" $\")"
   ]
  },
  {
   "cell_type": "code",
   "execution_count": null,
   "metadata": {
    "collapsed": true
   },
   "outputs": [],
   "source": []
  }
 ],
 "metadata": {
  "kernelspec": {
   "display_name": "Python 2",
   "language": "python",
   "name": "python2"
  },
  "language_info": {
   "codemirror_mode": {
    "name": "ipython",
    "version": 2
   },
   "file_extension": ".py",
   "mimetype": "text/x-python",
   "name": "python",
   "nbconvert_exporter": "python",
   "pygments_lexer": "ipython2",
   "version": "2.7.12"
  }
 },
 "nbformat": 4,
 "nbformat_minor": 2
}
